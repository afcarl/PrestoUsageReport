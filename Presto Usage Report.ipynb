{
 "cells": [
  {
   "cell_type": "code",
   "execution_count": 40,
   "metadata": {},
   "outputs": [
    {
     "name": "stdout",
     "output_type": "stream",
     "text": [
      "Days used: [2, 2, 3, 3, 4, 4, 5, 5, 6, 6, 9, 9, 10, 11, 11, 12, 12, 13, 13, 16, 16, 19, 19, 20, 20, 23, 23, 25, 25, 30, 30, 33, 33, 35, 35, 37, 37, 38, 38, 39, 39, 41, 41, 44, 44, 47, 47, 60, 60, 61, 61, 65, 65, 67, 67, 68, 68, 72, 72, 73, 73, 73, 79, 79, 81, 81, 82, 82, 93, 93, 95, 95, 100, 100, 101, 101, 102, 102, 103, 103, 106, 109, 111, 111, 114, 114, 116, 116, 121, 121, 122, 122, 124, 124, 125, 125, 128, 128, 129, 129, 130, 130, 131, 131, 133, 133, 135, 135, 137, 137, 139, 139, 140, 140, 144, 144, 146, 146, 147, 147, 149, 149, 151, 151, 152, 152, 153, 153, 156, 156, 157, 157, 158, 158, 159, 159, 163, 163, 164, 164, 177, 177, 179, 179, 186, 186, 187, 201, 201, 202, 202, 205, 205, 207, 207, 208, 208, 209, 209, 212, 212, 213, 213, 214, 214, 220, 220, 221, 221, 230, 230, 232, 232, 233, 233, 234, 234, 235, 235, 236, 236, 238, 238, 240, 240, 241, 241, 242, 242, 251, 251, 254, 254, 255, 255, 256, 256, 257, 257, 258, 261, 261, 262, 262, 268, 268, 269, 269, 272, 272, 273, 273, 273, 273, 275, 275, 276, 276, 278, 278, 285, 285, 286, 286, 289, 289, 290, 290, 291, 291, 293, 293, 296, 296, 297, 297, 298, 298, 300, 300, 303, 303, 305, 305, 307, 307, 310, 310, 311, 311, 312, 312, 317, 317, 318, 318, 323, 323, 324, 324, 325, 325, 326, 326, 328, 328, 331, 331, 332, 332, 334, 334, 336, 337, 337, 338, 338, 339, 339, 342, 342, 345, 345, 347, 347, 354, 355, 355]\n"
     ]
    }
   ],
   "source": [
    "import csv\n",
    "from datetime import datetime\n",
    "\n",
    "f = open(\"TUR_2018_10523258_024.csv\",\"r\")\n",
    "reader = csv.reader(f)\n",
    "dates = []\n",
    "\n",
    "for row in reader:\n",
    "    try:\n",
    "        if row[3]==\"Fare Payment\":\n",
    "            if float(row[4][2:-1])>1.:\n",
    "                dt = datetime.strptime(row[0].split(\" \")[0], '%m/%d/%Y')\n",
    "\n",
    "                doy = dt.strftime('%j')\n",
    "                dates.append(doy)\n",
    "    except:\n",
    "       \n",
    "        pass\n",
    "dates = [int(x) for x in dates]\n",
    "print(\"Days used:\",dates)"
   ]
  },
  {
   "cell_type": "code",
   "execution_count": 41,
   "metadata": {},
   "outputs": [
    {
     "name": "stdout",
     "output_type": "stream",
     "text": [
      "Day, number of trips: 128 2\n",
      "Day, number of trips: 129 2\n",
      "Day, number of trips: 130 2\n",
      "Day, number of trips: 131 2\n",
      "Day, number of trips: 133 2\n",
      "Day, number of trips: 135 2\n",
      "Day, number of trips: 137 2\n",
      "Day, number of trips: 139 2\n",
      "Day, number of trips: 140 2\n",
      "Day, number of trips: 144 2\n",
      "Day, number of trips: 146 2\n",
      "Day, number of trips: 147 2\n",
      "Day, number of trips: 149 2\n",
      "Day, number of trips: 151 2\n",
      "Day, number of trips: 152 2\n",
      "Day, number of trips: 153 2\n",
      "Day, number of trips: 156 2\n",
      "Day, number of trips: 157 2\n",
      "Day, number of trips: 158 2\n",
      "Number of trips in 31 consecutive days 38\n"
     ]
    }
   ],
   "source": [
    "tripmax = -1\n",
    "tripmaxarg = -1\n",
    "for i in range(365):\n",
    "    if i in dates:\n",
    "        trips = 0\n",
    "        for j in range(i,i+31):\n",
    "            trips += dates.count(j)\n",
    "        if trips>tripmax:\n",
    "            tripmax = trips\n",
    "            tripmaxarg = i\n",
    "\n",
    "for j in range(tripmaxarg,tripmaxarg+31):\n",
    "    if j in dates:\n",
    "        print(\"Day, number of trips:\", j, dates.count(j))\n",
    "\n",
    "print(\"Number of trips in 31 consecutive days\", tripmax)        "
   ]
  },
  {
   "cell_type": "code",
   "execution_count": null,
   "metadata": {},
   "outputs": [],
   "source": []
  }
 ],
 "metadata": {
  "kernelspec": {
   "display_name": "Python 3",
   "language": "python",
   "name": "python3"
  },
  "language_info": {
   "codemirror_mode": {
    "name": "ipython",
    "version": 3
   },
   "file_extension": ".py",
   "mimetype": "text/x-python",
   "name": "python",
   "nbconvert_exporter": "python",
   "pygments_lexer": "ipython3",
   "version": "3.5.2"
  }
 },
 "nbformat": 4,
 "nbformat_minor": 2
}
